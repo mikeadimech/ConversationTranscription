{
 "cells": [
  {
   "cell_type": "code",
   "execution_count": 8,
   "metadata": {},
   "outputs": [],
   "source": [
    "import sounddevice as sd\n",
    "from scipy.io.wavfile import write\n",
    "import wavio as wv\n",
    "\n",
    "def record():\n",
    "\n",
    "    # Sampling frequency\n",
    "    frequency = 44400\n",
    "    \n",
    "    # Recording duration in seconds\n",
    "    duration = 3\n",
    "    \n",
    "    # to record audio from\n",
    "    # sound-device into a Numpy\n",
    "    recording = sd.rec(int(duration * frequency),\n",
    "                    samplerate = frequency, channels = 2)\n",
    "    \n",
    "    # Wait for the audio to complete\n",
    "    sd.wait()\n",
    "    \n",
    "    # using scipy to save the recording in .wav format\n",
    "    # This will convert the NumPy array\n",
    "    # to an audio file with the given sampling frequency\n",
    "    write(\"recording0.wav\", frequency, recording)\n",
    "    \n",
    "    # using wavio to save the recording in .wav format\n",
    "    # This will convert the NumPy array to an audio\n",
    "    # file with the given sampling frequency\n",
    "    wv.write(\"recording1.wav\", recording, frequency, sampwidth=2)\n",
    "\n",
    "record()\n"
   ]
  }
 ],
 "metadata": {
  "interpreter": {
   "hash": "b3ba2566441a7c06988d0923437866b63cedc61552a5af99d1f4fb67d367b25f"
  },
  "kernelspec": {
   "display_name": "Python 3.8.8 ('base')",
   "language": "python",
   "name": "python3"
  },
  "language_info": {
   "codemirror_mode": {
    "name": "ipython",
    "version": 3
   },
   "file_extension": ".py",
   "mimetype": "text/x-python",
   "name": "python",
   "nbconvert_exporter": "python",
   "pygments_lexer": "ipython3",
   "version": "3.10.0"
  },
  "orig_nbformat": 4
 },
 "nbformat": 4,
 "nbformat_minor": 2
}
