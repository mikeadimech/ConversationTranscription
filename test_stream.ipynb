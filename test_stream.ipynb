{
 "cells": [
  {
   "cell_type": "code",
   "execution_count": 3,
   "metadata": {},
   "outputs": [
    {
     "ename": "KeyboardInterrupt",
     "evalue": "",
     "output_type": "error",
     "traceback": [
      "\u001b[1;31m---------------------------------------------------------------------------\u001b[0m",
      "\u001b[1;31mKeyboardInterrupt\u001b[0m                         Traceback (most recent call last)",
      "\u001b[1;32mc:\\Users\\mikea\\OneDrive\\Documents\\University\\Third Year\\Thesis\\Code\\test_stream.ipynb Cell 1'\u001b[0m in \u001b[0;36m<module>\u001b[1;34m\u001b[0m\n\u001b[0;32m     <a href='vscode-notebook-cell:/c%3A/Users/mikea/OneDrive/Documents/University/Third%20Year/Thesis/Code/test_stream.ipynb#ch0000000?line=20'>21</a>\u001b[0m embedding_stream \u001b[39m=\u001b[39m rx\u001b[39m.\u001b[39mzip(regular_stream, segmentation_stream)\u001b[39m.\u001b[39mpipe(\n\u001b[0;32m     <a href='vscode-notebook-cell:/c%3A/Users/mikea/OneDrive/Documents/University/Third%20Year/Thesis/Code/test_stream.ipynb#ch0000000?line=21'>22</a>\u001b[0m     ops\u001b[39m.\u001b[39mstarmap(\u001b[39mlambda\u001b[39;00m wave, seg: (wave, osp(seg))),\n\u001b[0;32m     <a href='vscode-notebook-cell:/c%3A/Users/mikea/OneDrive/Documents/University/Third%20Year/Thesis/Code/test_stream.ipynb#ch0000000?line=22'>23</a>\u001b[0m     ops\u001b[39m.\u001b[39mstarmap(embedding),\n\u001b[0;32m     <a href='vscode-notebook-cell:/c%3A/Users/mikea/OneDrive/Documents/University/Third%20Year/Thesis/Code/test_stream.ipynb#ch0000000?line=23'>24</a>\u001b[0m     ops\u001b[39m.\u001b[39mmap(normalization)\n\u001b[0;32m     <a href='vscode-notebook-cell:/c%3A/Users/mikea/OneDrive/Documents/University/Third%20Year/Thesis/Code/test_stream.ipynb#ch0000000?line=24'>25</a>\u001b[0m )\n\u001b[0;32m     <a href='vscode-notebook-cell:/c%3A/Users/mikea/OneDrive/Documents/University/Third%20Year/Thesis/Code/test_stream.ipynb#ch0000000?line=26'>27</a>\u001b[0m embedding_stream\u001b[39m.\u001b[39msubscribe(on_next\u001b[39m=\u001b[39m\u001b[39mlambda\u001b[39;00m emb: \u001b[39mprint\u001b[39m(emb\u001b[39m.\u001b[39mshape))\n\u001b[1;32m---> <a href='vscode-notebook-cell:/c%3A/Users/mikea/OneDrive/Documents/University/Third%20Year/Thesis/Code/test_stream.ipynb#ch0000000?line=28'>29</a>\u001b[0m mic\u001b[39m.\u001b[39;49mread()\n",
      "File \u001b[1;32m~\\.conda\\envs\\scribe\\lib\\site-packages\\diart\\sources.py:221\u001b[0m, in \u001b[0;36mMicrophoneAudioSource.read\u001b[1;34m(self)\u001b[0m\n\u001b[0;32m    <a href='file:///~/.conda/envs/scribe/lib/site-packages/diart/sources.py?line=218'>219</a>\u001b[0m \u001b[39mwhile\u001b[39;00m \u001b[39mself\u001b[39m\u001b[39m.\u001b[39mmic_stream:\n\u001b[0;32m    <a href='file:///~/.conda/envs/scribe/lib/site-packages/diart/sources.py?line=219'>220</a>\u001b[0m     \u001b[39mtry\u001b[39;00m:\n\u001b[1;32m--> <a href='file:///~/.conda/envs/scribe/lib/site-packages/diart/sources.py?line=220'>221</a>\u001b[0m         \u001b[39mself\u001b[39m\u001b[39m.\u001b[39mstream\u001b[39m.\u001b[39mon_next(\u001b[39mself\u001b[39;49m\u001b[39m.\u001b[39;49mqueue\u001b[39m.\u001b[39;49mget())\n\u001b[0;32m    <a href='file:///~/.conda/envs/scribe/lib/site-packages/diart/sources.py?line=221'>222</a>\u001b[0m     \u001b[39mexcept\u001b[39;00m \u001b[39mException\u001b[39;00m \u001b[39mas\u001b[39;00m e:\n\u001b[0;32m    <a href='file:///~/.conda/envs/scribe/lib/site-packages/diart/sources.py?line=222'>223</a>\u001b[0m         \u001b[39mself\u001b[39m\u001b[39m.\u001b[39mstream\u001b[39m.\u001b[39mon_error(e)\n",
      "\u001b[1;31mKeyboardInterrupt\u001b[0m: "
     ]
    }
   ],
   "source": [
    "import rx\n",
    "import rx.operators as ops\n",
    "import diart.operators as myops\n",
    "from diart.sources import MicrophoneAudioSource\n",
    "import diart.functional as fn\n",
    "\n",
    "sample_rate = 16000\n",
    "mic = MicrophoneAudioSource(sample_rate)\n",
    "\n",
    "# Initialize independent modules\n",
    "segmentation = fn.FrameWiseModel(\"pyannote/segmentation\")\n",
    "embedding = fn.ChunkWiseModel(\"pyannote/embedding\")\n",
    "osp = fn.OverlappedSpeechPenalty(gamma=3, beta=10)\n",
    "normalization = fn.EmbeddingNormalization(norm=1)\n",
    "\n",
    "# Reformat microphone stream. Defaults to 5s duration and 500ms shift\n",
    "regular_stream = mic.stream.pipe(myops.regularize_stream(sample_rate))\n",
    "# Branch the microphone stream to calculate segmentation\n",
    "segmentation_stream = regular_stream.pipe(ops.map(segmentation))\n",
    "# Join audio and segmentation stream to calculate speaker embeddings\n",
    "embedding_stream = rx.zip(regular_stream, segmentation_stream).pipe(\n",
    "    ops.starmap(lambda wave, seg: (wave, osp(seg))),\n",
    "    ops.starmap(embedding),\n",
    "    ops.map(normalization)\n",
    ")\n",
    "\n",
    "embedding_stream.subscribe(on_next=lambda emb: print(emb.shape))\n",
    "\n",
    "mic.read()"
   ]
  }
 ],
 "metadata": {
  "interpreter": {
   "hash": "a9dcdb0415f676c898c89fdceb8d2dce6b50a18adf7dd6b6a92162fd80265d53"
  },
  "kernelspec": {
   "display_name": "Python 3.7.11 ('newenv')",
   "language": "python",
   "name": "python3"
  },
  "language_info": {
   "codemirror_mode": {
    "name": "ipython",
    "version": 3
   },
   "file_extension": ".py",
   "mimetype": "text/x-python",
   "name": "python",
   "nbconvert_exporter": "python",
   "pygments_lexer": "ipython3",
   "version": "3.8.12"
  },
  "orig_nbformat": 4
 },
 "nbformat": 4,
 "nbformat_minor": 2
}
